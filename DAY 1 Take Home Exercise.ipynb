{
 "cells": [
  {
   "cell_type": "markdown",
   "metadata": {},
   "source": [
    "\n",
    "## DAY 1"
   ]
  },
  {
   "cell_type": "markdown",
   "metadata": {},
   "source": [
    "#### Take Home Exercise: THE #1 "
   ]
  },
  {
   "cell_type": "markdown",
   "metadata": {},
   "source": [
    "Populate with all  state data to be discovered from corona live data from MyGov On following data structures\n",
    "• List 1 – Names of the state, in order as placed • List 2 – Having Infected numbers of the states\n",
    "  in List 1\n",
    "• Tuple – Numbers in recovered, state wise\n",
    "• Dictionary – State : Infected"
   ]
  },
  {
   "cell_type": "code",
   "execution_count": 6,
   "metadata": {},
   "outputs": [],
   "source": [
    "First_List_state_of_India=[\"Andaman and Nicobar\",\n",
    "\"Andhra Pradesh\",\n",
    "\"Arunachal Pradesh\",\n",
    "\"Assam\",\n",
    "\"Bihar\",\n",
    "\"Chandigarh\",\n",
    "\"Chhattisgarh\",\n",
    "\"Dadra and Nagar Haveli\",\n",
    "\"Dadra and Nagar Haveli\",\n",
    "\"Delhi\",\n",
    "\"Goa\",\n",
    "\"Gujarat\",\n",
    "\"Haryana\",\n",
    "\"Himachal Pradesh\",\n",
    "\"Jammu and Kashmir\",\n",
    "\"Jharkhand\",\n",
    "\"Karnataka\",\n",
    "\"Kerala\",\n",
    "\"Ladakh\",\n",
    "\"Lakshadweep\",\n",
    "\"Madhya Pradesh\",\n",
    "\"Maharashtra\",\n",
    "\"Manipur\",\n",
    "\"Meghalaya\",\n",
    "\"Mizoram\",\n",
    "\"Nagaland\",\n",
    "\"Odisha\",\n",
    "\"Puducherry\",\n",
    "\"Punjab\",\n",
    "\"Rajasthan\",\n",
    "\"Sikkim\",\n",
    "\"Tamil Nadu\",\n",
    "\"Telengana\",\n",
    "\"Tripura\",\n",
    "\"Uttar Pradesh\",\n",
    "\"Uttarakhand\",\n",
    "\"West Bengal\",\n",
    "]"
   ]
  },
  {
   "cell_type": "code",
   "execution_count": 7,
   "metadata": {},
   "outputs": [
    {
     "data": {
      "text/plain": [
       "['Andaman and Nicobar',\n",
       " 'Andhra Pradesh',\n",
       " 'Arunachal Pradesh',\n",
       " 'Assam',\n",
       " 'Bihar',\n",
       " 'Chandigarh',\n",
       " 'Chhattisgarh',\n",
       " 'Dadra and Nagar Haveli',\n",
       " 'Dadra and Nagar Haveli',\n",
       " 'Delhi',\n",
       " 'Goa',\n",
       " 'Gujarat',\n",
       " 'Haryana',\n",
       " 'Himachal Pradesh',\n",
       " 'Jammu and Kashmir',\n",
       " 'Jharkhand',\n",
       " 'Karnataka',\n",
       " 'Kerala',\n",
       " 'Ladakh',\n",
       " 'Lakshadweep',\n",
       " 'Madhya Pradesh',\n",
       " 'Maharashtra',\n",
       " 'Manipur',\n",
       " 'Meghalaya',\n",
       " 'Mizoram',\n",
       " 'Nagaland',\n",
       " 'Odisha',\n",
       " 'Puducherry',\n",
       " 'Punjab',\n",
       " 'Rajasthan',\n",
       " 'Sikkim',\n",
       " 'Tamil Nadu',\n",
       " 'Telengana',\n",
       " 'Tripura',\n",
       " 'Uttar Pradesh',\n",
       " 'Uttarakhand',\n",
       " 'West Bengal']"
      ]
     },
     "execution_count": 7,
     "metadata": {},
     "output_type": "execute_result"
    }
   ],
   "source": [
    "First_List_state_of_India\n"
   ]
  },
  {
   "cell_type": "code",
   "execution_count": 8,
   "metadata": {},
   "outputs": [],
   "source": [
    "Second_List_Infected_no=[109,\n",
    "16097,\n",
    "195,\n",
    "9013,\n",
    "10471,\n",
    "450,\n",
    "3013,\n",
    "230,\n",
    "230,\n",
    "92175,\n",
    "1482,\n",
    "33913,\n",
    "15509,\n",
    "1014,\n",
    "7849,\n",
    "2584,\n",
    "18016,\n",
    "4753,\n",
    "990,\n",
    "0,\n",
    "14106,\n",
    "186626,\n",
    "1279,\n",
    "56,\n",
    "162,\n",
    "501,\n",
    "7545,\n",
    "802,\n",
    "5784,\n",
    "18662,\n",
    "102,\n",
    "98392,\n",
    "18570,\n",
    "1435,\n",
    "24825,\n",
    "2984,\n",
    "19819,\n",
    "]"
   ]
  },
  {
   "cell_type": "code",
   "execution_count": 9,
   "metadata": {},
   "outputs": [
    {
     "data": {
      "text/plain": [
       "[109,\n",
       " 16097,\n",
       " 195,\n",
       " 9013,\n",
       " 10471,\n",
       " 450,\n",
       " 3013,\n",
       " 230,\n",
       " 230,\n",
       " 92175,\n",
       " 1482,\n",
       " 33913,\n",
       " 15509,\n",
       " 1014,\n",
       " 7849,\n",
       " 2584,\n",
       " 18016,\n",
       " 4753,\n",
       " 990,\n",
       " 0,\n",
       " 14106,\n",
       " 186626,\n",
       " 1279,\n",
       " 56,\n",
       " 162,\n",
       " 501,\n",
       " 7545,\n",
       " 802,\n",
       " 5784,\n",
       " 18662,\n",
       " 102,\n",
       " 98392,\n",
       " 18570,\n",
       " 1435,\n",
       " 24825,\n",
       " 2984,\n",
       " 19819]"
      ]
     },
     "execution_count": 9,
     "metadata": {},
     "output_type": "execute_result"
    }
   ],
   "source": [
    "Second_List_Infected_no"
   ]
  },
  {
   "cell_type": "code",
   "execution_count": 10,
   "metadata": {
    "scrolled": true
   },
   "outputs": [
    {
     "name": "stdout",
     "output_type": "stream",
     "text": [
      "Andaman and Nicobar has 109 number of infected persons\n",
      "Andhra Pradesh has 16097 number of infected persons\n",
      "Arunachal Pradesh has 195 number of infected persons\n",
      "Assam has 9013 number of infected persons\n",
      "Bihar has 10471 number of infected persons\n",
      "Chandigarh has 450 number of infected persons\n",
      "Chhattisgarh has 3013 number of infected persons\n",
      "Dadra and Nagar Haveli has 230 number of infected persons\n",
      "Dadra and Nagar Haveli has 230 number of infected persons\n",
      "Delhi has 92175 number of infected persons\n",
      "Goa has 1482 number of infected persons\n",
      "Gujarat has 33913 number of infected persons\n",
      "Haryana has 15509 number of infected persons\n",
      "Himachal Pradesh has 1014 number of infected persons\n",
      "Jammu and Kashmir has 7849 number of infected persons\n",
      "Jharkhand has 2584 number of infected persons\n",
      "Karnataka has 18016 number of infected persons\n",
      "Kerala has 4753 number of infected persons\n",
      "Ladakh has 990 number of infected persons\n",
      "Lakshadweep has 0 number of infected persons\n",
      "Madhya Pradesh has 14106 number of infected persons\n",
      "Maharashtra has 186626 number of infected persons\n",
      "Manipur has 1279 number of infected persons\n",
      "Meghalaya has 56 number of infected persons\n",
      "Mizoram has 162 number of infected persons\n",
      "Nagaland has 501 number of infected persons\n",
      "Odisha has 7545 number of infected persons\n",
      "Puducherry has 802 number of infected persons\n",
      "Punjab has 5784 number of infected persons\n",
      "Rajasthan has 18662 number of infected persons\n",
      "Sikkim has 102 number of infected persons\n",
      "Tamil Nadu has 98392 number of infected persons\n",
      "Telengana has 18570 number of infected persons\n",
      "Tripura has 1435 number of infected persons\n",
      "Uttar Pradesh has 24825 number of infected persons\n",
      "Uttarakhand has 2984 number of infected persons\n",
      "West Bengal has 19819 number of infected persons\n"
     ]
    }
   ],
   "source": [
    "for i in range (0,37):\n",
    "    print(\"{} has {} number of infected persons\".format(First_List_state_of_India[i],Second_List_Infected_no[i]))"
   ]
  },
  {
   "cell_type": "code",
   "execution_count": 12,
   "metadata": {},
   "outputs": [],
   "source": [
    "Recovered=[51,\n",
    "7313,\n",
    "66,\n",
    "6106,\n",
    "8020,\n",
    "389,\n",
    "2385,\n",
    "89,\n",
    "89,\n",
    "63007,\n",
    "734,\n",
    "24593,\n",
    "11019,\n",
    "628,\n",
    "4974,\n",
    "1983,\n",
    "8334,\n",
    "2640,\n",
    "730,\n",
    "0,\n",
    "10815,\n",
    "101172,\n",
    "617,\n",
    "42,\n",
    "126,\n",
    "182,\n",
    "5502,\n",
    "331,\n",
    "4144,\n",
    "14948,\n",
    "53,\n",
    "56021,\n",
    "9069,\n",
    "1146,\n",
    "17221,\n",
    "2405,\n",
    "13037,\n",
    "]"
   ]
  },
  {
   "cell_type": "code",
   "execution_count": 13,
   "metadata": {},
   "outputs": [
    {
     "data": {
      "text/plain": [
       "[51,\n",
       " 7313,\n",
       " 66,\n",
       " 6106,\n",
       " 8020,\n",
       " 389,\n",
       " 2385,\n",
       " 89,\n",
       " 89,\n",
       " 63007,\n",
       " 734,\n",
       " 24593,\n",
       " 11019,\n",
       " 628,\n",
       " 4974,\n",
       " 1983,\n",
       " 8334,\n",
       " 2640,\n",
       " 730,\n",
       " 0,\n",
       " 10815,\n",
       " 101172,\n",
       " 617,\n",
       " 42,\n",
       " 126,\n",
       " 182,\n",
       " 5502,\n",
       " 331,\n",
       " 4144,\n",
       " 14948,\n",
       " 53,\n",
       " 56021,\n",
       " 9069,\n",
       " 1146,\n",
       " 17221,\n",
       " 2405,\n",
       " 13037]"
      ]
     },
     "execution_count": 13,
     "metadata": {},
     "output_type": "execute_result"
    }
   ],
   "source": [
    "Recovered"
   ]
  },
  {
   "cell_type": "code",
   "execution_count": 38,
   "metadata": {},
   "outputs": [
    {
     "name": "stdout",
     "output_type": "stream",
     "text": [
      "(Recovered,First_List_state_of_India)\n",
      "51\n",
      "Andaman and Nicobar\n",
      "7313\n",
      "Andhra Pradesh\n",
      "66\n",
      "Arunachal Pradesh\n",
      "6106\n",
      "Assam\n",
      "8020\n",
      "Bihar\n",
      "389\n",
      "Chandigarh\n",
      "2385\n",
      "Chhattisgarh\n",
      "89\n",
      "Dadra and Nagar Haveli\n",
      "89\n",
      "Dadra and Nagar Haveli\n",
      "63007\n",
      "Delhi\n",
      "734\n",
      "Goa\n",
      "24593\n",
      "Gujarat\n",
      "11019\n",
      "Haryana\n",
      "628\n",
      "Himachal Pradesh\n",
      "4974\n",
      "Jammu and Kashmir\n",
      "1983\n",
      "Jharkhand\n",
      "8334\n",
      "Karnataka\n",
      "2640\n",
      "Kerala\n",
      "730\n",
      "Ladakh\n",
      "0\n",
      "Lakshadweep\n",
      "10815\n",
      "Madhya Pradesh\n",
      "101172\n",
      "Maharashtra\n",
      "617\n",
      "Manipur\n",
      "42\n",
      "Meghalaya\n",
      "126\n",
      "Mizoram\n",
      "182\n",
      "Nagaland\n",
      "5502\n",
      "Odisha\n",
      "331\n",
      "Puducherry\n",
      "4144\n",
      "Punjab\n",
      "14948\n",
      "Rajasthan\n",
      "53\n",
      "Sikkim\n",
      "56021\n",
      "Tamil Nadu\n",
      "9069\n",
      "Telengana\n",
      "1146\n",
      "Tripura\n",
      "17221\n",
      "Uttar Pradesh\n",
      "2405\n",
      "Uttarakhand\n",
      "13037\n",
      "West Bengal\n"
     ]
    }
   ],
   "source": [
    "print(\"(Recovered,First_List_state_of_India)\")\n",
    "for i in range(0,37):\n",
    "    Listfourth_State_Wise_Recovered = (Recovered[i],First_List_state_of_India[i])\n",
    "    for i in Listfourth_State_Wise_Recovered:\n",
    "       print(i)"
   ]
  },
  {
   "cell_type": "code",
   "execution_count": 39,
   "metadata": {},
   "outputs": [
    {
     "name": "stdout",
     "output_type": "stream",
     "text": [
      "States Infected\n",
      "Andaman and Nicobar\n",
      "Andhra Pradesh\n",
      "Arunachal Pradesh\n",
      "Assam\n",
      "Bihar\n",
      "Chandigarh\n",
      "Chhattisgarh\n",
      "Dadra and Nagar Haveli\n",
      "Dadra and Nagar Haveli\n",
      "Delhi\n",
      "Goa\n",
      "Gujarat\n",
      "Haryana\n",
      "Himachal Pradesh\n",
      "Jammu and Kashmir\n",
      "Jharkhand\n",
      "Karnataka\n",
      "Kerala\n",
      "Ladakh\n",
      "Lakshadweep\n",
      "Madhya Pradesh\n",
      "Maharashtra\n",
      "Manipur\n",
      "Meghalaya\n",
      "Mizoram\n",
      "Nagaland\n",
      "Odisha\n",
      "Puducherry\n",
      "Punjab\n",
      "Rajasthan\n",
      "Sikkim\n",
      "Tamil Nadu\n",
      "Telengana\n",
      "Tripura\n",
      "Uttar Pradesh\n",
      "Uttarakhand\n",
      "West Bengal\n"
     ]
    }
   ],
   "source": [
    "print(\"States Infected\")\n",
    "for i in range(0,37):\n",
    "    STATE_INFECTED = {First_List_state_of_India[i]:Second_List_Infected_no[i]}\n",
    "    for item in STATE_INFECTED:\n",
    "        print(item)\n",
    "        STATE_INFECTED.items()\n",
    "    "
   ]
  },
  {
   "cell_type": "code",
   "execution_count": 24,
   "metadata": {},
   "outputs": [
    {
     "data": {
      "text/plain": [
       "dict_items([('West Bengal', 19819)])"
      ]
     },
     "execution_count": 24,
     "metadata": {},
     "output_type": "execute_result"
    }
   ],
   "source": [
    "STATE_INFECTED.items()"
   ]
  },
  {
   "cell_type": "code",
   "execution_count": 41,
   "metadata": {},
   "outputs": [],
   "source": [
    "STATE_INFECTED_DICTIONARY={'Andaman and Nicobar':100,\n",
    "'Andhra Pradesh':15252,\n",
    "'Arunachal Pradesh':195,\n",
    "'Assam':8582,\n",
    "'Bihar':10249,\n",
    "'Chandigarh':446,\n",
    "'Chhattisgarh':2940,\n",
    "'Dadra and Nagar Haveli':215,\n",
    "'Dadra and Nagar Haveli':215,\n",
    "'Delhi':89802,\n",
    "'Goa':1387,\n",
    "'Gujarat':33232,\n",
    "'Haryana':14941,\n",
    "'Himachal Pradesh':979,\n",
    "'Jammu and Kashmir':7695,\n",
    "'Jharkhand':2521,\n",
    "'Karnataka':16514,\n",
    "'Kerala':4593,\n",
    "'Ladakh':990,\n",
    "'Lakshadweep':1,\n",
    "'Madhya Pradesh':13861,\n",
    "'Maharashtra':180298,\n",
    "'Manipur':1260,\n",
    "'Meghalaya':52,\n",
    "'Mizoram':160,\n",
    "'Nagaland':459,\n",
    "'Odisha':7316,\n",
    "'Puducherry':714,\n",
    "'Punjab':5668,\n",
    "'Rajasthan':18312,\n",
    "'Sikkim':101,\n",
    "'Tamil Nadu':94049,\n",
    "'Telengana':17357,\n",
    "'Tripura':1396,\n",
    "'Uttar Pradesh':24056,\n",
    "'Uttarakhand':2947,\n",
    "'West Bengal':19170,\n",
    "}"
   ]
  },
  {
   "cell_type": "code",
   "execution_count": 42,
   "metadata": {},
   "outputs": [
    {
     "data": {
      "text/plain": [
       "dict_items([('Andaman and Nicobar', 100), ('Andhra Pradesh', 15252), ('Arunachal Pradesh', 195), ('Assam', 8582), ('Bihar', 10249), ('Chandigarh', 446), ('Chhattisgarh', 2940), ('Dadra and Nagar Haveli', 215), ('Delhi', 89802), ('Goa', 1387), ('Gujarat', 33232), ('Haryana', 14941), ('Himachal Pradesh', 979), ('Jammu and Kashmir', 7695), ('Jharkhand', 2521), ('Karnataka', 16514), ('Kerala', 4593), ('Ladakh', 990), ('Lakshadweep', 1), ('Madhya Pradesh', 13861), ('Maharashtra', 180298), ('Manipur', 1260), ('Meghalaya', 52), ('Mizoram', 160), ('Nagaland', 459), ('Odisha', 7316), ('Puducherry', 714), ('Punjab', 5668), ('Rajasthan', 18312), ('Sikkim', 101), ('Tamil Nadu', 94049), ('Telengana', 17357), ('Tripura', 1396), ('Uttar Pradesh', 24056), ('Uttarakhand', 2947), ('West Bengal', 19170)])"
      ]
     },
     "execution_count": 42,
     "metadata": {},
     "output_type": "execute_result"
    }
   ],
   "source": [
    "STATE_INFECTED_DICTIONARY.items()"
   ]
  }
 ],
 "metadata": {
  "kernelspec": {
   "display_name": "Python 3",
   "language": "python",
   "name": "python3"
  },
  "language_info": {
   "codemirror_mode": {
    "name": "ipython",
    "version": 3
   },
   "file_extension": ".py",
   "mimetype": "text/x-python",
   "name": "python",
   "nbconvert_exporter": "python",
   "pygments_lexer": "ipython3",
   "version": "3.7.4"
  }
 },
 "nbformat": 4,
 "nbformat_minor": 2
}
