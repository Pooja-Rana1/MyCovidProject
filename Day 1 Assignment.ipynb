{
 "cells": [
  {
   "cell_type": "markdown",
   "metadata": {},
   "source": [
    "## DAY 1"
   ]
  },
  {
   "cell_type": "markdown",
   "metadata": {},
   "source": [
    "#### In Session Excercise"
   ]
  },
  {
   "cell_type": "markdown",
   "metadata": {},
   "source": [
    "Say for district “Gwalior” • Infected total till date = 1234 • Infected on 10th June 2020 = 12 • Infected on 11th June 2020 = 2 • Infected on 12th June 2020 = 13 • Report the % change in the infected in given three days"
   ]
  },
  {
   "cell_type": "code",
   "execution_count": 10,
   "metadata": {},
   "outputs": [],
   "source": [
    "District=\"Gwalior\"\n",
    "I_tilldate=1234\n",
    "I_twelveJune=1234\n",
    "I_elevenJune=int(I_twelveJune)-13\n",
    "I_tenJune=int(I_elevenJune)-2\n",
    "I_nineJune = int(I_tenJune)-12\n",
    "\n"
   ]
  },
  {
   "cell_type": "code",
   "execution_count": 11,
   "metadata": {},
   "outputs": [
    {
     "name": "stdout",
     "output_type": "stream",
     "text": [
      "infected on 9th June 1207\n",
      "Infected on 10th June 1219\n",
      "Infected on 11th June 1221\n",
      "Infected on 12th June 1234\n",
      "Percentage Change on 10th June is: 0.9942004971002486\n",
      "percent change on 11th June is: 1.2305168170631664\n",
      "Percent change on 12th June is: 1.0647010647010646\n"
     ]
    }
   ],
   "source": [
    "print(\"infected on 9th June\",I_nineJune)\n",
    "print(\"Infected on 10th June\",I_tenJune)\n",
    "print(\"Infected on 11th June\",I_elevenJune)\n",
    "print(\"Infected on 12th June\",I_twelveJune)\n",
    "\n",
    "percentage_change_on_tenJune = ((I_tenJune-I_nineJune)/I_nineJune)*100\n",
    "print(\"Percentage Change on 10th June is:\",percentage_change_on_tenJune)\n",
    "\n",
    "\n",
    "percentage_change_on_elevenJune=((I_twelveJune-I_tenJune)/I_tenJune)*100\n",
    "print(\"percent change on 11th June is:\",percentage_change_on_elevenJune)\n",
    "\n",
    "\n",
    "Percent_change_On_twelveJune=((I_twelveJune-I_elevenJune)/I_elevenJune)*100\n",
    "print(\"Percent change on 12th June is:\",Percent_change_On_twelveJune)"
   ]
  },
  {
   "cell_type": "code",
   "execution_count": null,
   "metadata": {},
   "outputs": [],
   "source": []
  }
 ],
 "metadata": {
  "kernelspec": {
   "display_name": "Python 3",
   "language": "python",
   "name": "python3"
  },
  "language_info": {
   "codemirror_mode": {
    "name": "ipython",
    "version": 3
   },
   "file_extension": ".py",
   "mimetype": "text/x-python",
   "name": "python",
   "nbconvert_exporter": "python",
   "pygments_lexer": "ipython3",
   "version": "3.7.4"
  }
 },
 "nbformat": 4,
 "nbformat_minor": 2
}
