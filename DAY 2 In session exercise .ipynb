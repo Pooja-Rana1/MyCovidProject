{
 "cells": [
  {
   "cell_type": "markdown",
   "metadata": {},
   "source": [
    "## DAY 2"
   ]
  },
  {
   "cell_type": "markdown",
   "metadata": {},
   "source": [
    "#### In Session Excercise"
   ]
  },
  {
   "cell_type": "markdown",
   "metadata": {},
   "source": [
    "Say for district “Mumbai” • Infected total till date = 136596 • Recovered till date = 67890 • Deaths till date = 5732 Use ifr function and calculate the IFR Build a function for CMR (Crude Mortality Rate)"
   ]
  },
  {
   "cell_type": "code",
   "execution_count": 3,
   "metadata": {},
   "outputs": [],
   "source": [
    "District=\"Mumbai\"\n",
    "Infeccted_till_date=136596\n",
    "Recoverde_till_date=67890\n",
    "Deaths_till_date=5732\n",
    "total_population=Infeccted_till_date+Recoverde_till_date+Deaths_till_date\n"
   ]
  },
  {
   "cell_type": "code",
   "execution_count": 4,
   "metadata": {},
   "outputs": [
    {
     "data": {
      "text/plain": [
       "210218"
      ]
     },
     "execution_count": 4,
     "metadata": {},
     "output_type": "execute_result"
    }
   ],
   "source": [
    "total_poppulation"
   ]
  },
  {
   "cell_type": "code",
   "execution_count": 7,
   "metadata": {},
   "outputs": [],
   "source": [
    "#infected=[58,\n",
    "8586,\n",
    "128,\n",
    "2895,\n",
    "2374,\n",
    "55,\n",
    "614,\n",
    "141,\n",
    "141,\n",
    "26304,\n",
    "744,\n",
    "7434,\n",
    "4239,\n",
    "376,\n",
    "2760,\n",
    "586,\n",
    "9410,\n",
    "2088,\n",
    "259,\n",
    "0,\n",
    "2702,\n",
    "77276,\n",
    "662,\n",
    "13,\n",
    "36,\n",
    "319,\n",
    "2016,\n",
    "459,\n",
    "1488,\n",
    "3284,\n",
    "49,\n",
    "41050,\n",
    "9226,\n",
    "288,\n",
    "6869,\n",
    "537,\n",
    "6083\n",
    "]"
   ]
  },
  {
   "cell_type": "code",
   "execution_count": 5,
   "metadata": {},
   "outputs": [
    {
     "data": {
      "text/plain": [
       "[58,\n",
       " 8586,\n",
       " 128,\n",
       " 2895,\n",
       " 2374,\n",
       " 55,\n",
       " 614,\n",
       " 141,\n",
       " 141,\n",
       " 26304,\n",
       " 744,\n",
       " 7434,\n",
       " 4239,\n",
       " 376,\n",
       " 2760,\n",
       " 586,\n",
       " 9410,\n",
       " 2088,\n",
       " 259,\n",
       " 0,\n",
       " 2702,\n",
       " 77276,\n",
       " 662,\n",
       " 13,\n",
       " 36,\n",
       " 319,\n",
       " 2016,\n",
       " 459,\n",
       " 1488,\n",
       " 3284,\n",
       " 49,\n",
       " 41050,\n",
       " 9226,\n",
       " 288,\n",
       " 6869,\n",
       " 537,\n",
       " 6083]"
      ]
     },
     "execution_count": 5,
     "metadata": {},
     "output_type": "execute_result"
    }
   ],
   "source": [
    "#infected"
   ]
  },
  {
   "cell_type": "code",
   "execution_count": 6,
   "metadata": {},
   "outputs": [],
   "source": [
    "#deaths=[0,\n",
    "198,\n",
    "1,\n",
    "12,\n",
    "77,\n",
    "6,\n",
    "14,\n",
    "0,\n",
    "0,\n",
    "2864,\n",
    "4,\n",
    "1886,\n",
    "251,\n",
    "10,\n",
    "115,\n",
    "15,\n",
    "272,\n",
    "25,\n",
    "1,\n",
    "0,\n",
    "589,\n",
    "8178,\n",
    "0,\n",
    "1,\n",
    "0,\n",
    "0,\n",
    "27,\n",
    "12,\n",
    "152,\n",
    "430,\n",
    "0,\n",
    "1321,\n",
    "275,\n",
    "1,\n",
    "735,\n",
    "42,\n",
    "699,\n",
    "]"
   ]
  },
  {
   "cell_type": "code",
   "execution_count": 7,
   "metadata": {},
   "outputs": [
    {
     "data": {
      "text/plain": [
       "[0,\n",
       " 198,\n",
       " 1,\n",
       " 12,\n",
       " 77,\n",
       " 6,\n",
       " 14,\n",
       " 0,\n",
       " 0,\n",
       " 2864,\n",
       " 4,\n",
       " 1886,\n",
       " 251,\n",
       " 10,\n",
       " 115,\n",
       " 15,\n",
       " 272,\n",
       " 25,\n",
       " 1,\n",
       " 0,\n",
       " 589,\n",
       " 8178,\n",
       " 0,\n",
       " 1,\n",
       " 0,\n",
       " 0,\n",
       " 27,\n",
       " 12,\n",
       " 152,\n",
       " 430,\n",
       " 0,\n",
       " 1321,\n",
       " 275,\n",
       " 1,\n",
       " 735,\n",
       " 42,\n",
       " 699]"
      ]
     },
     "execution_count": 7,
     "metadata": {},
     "output_type": "execute_result"
    }
   ],
   "source": [
    "#deaths"
   ]
  },
  {
   "cell_type": "code",
   "execution_count": 8,
   "metadata": {},
   "outputs": [],
   "source": [
    "def ifr(Infeccted_till_date,Deaths_till_date):\n",
    "    ifr=(Deaths_till_date/Infeccted_till_date)*100\n",
    "    print(\"The IFR ={}%\".format(ifr))"
   ]
  },
  {
   "cell_type": "code",
   "execution_count": 9,
   "metadata": {},
   "outputs": [
    {
     "name": "stdout",
     "output_type": "stream",
     "text": [
      "The IFR =2383.042568039079%\n"
     ]
    }
   ],
   "source": [
    "ifr(5732,136596)"
   ]
  },
  {
   "cell_type": "code",
   "execution_count": 10,
   "metadata": {},
   "outputs": [],
   "source": [
    "total_population\n",
    "def CMR(Deaths_till_date,total_poppulation):\n",
    "    CMR=(Deaths_till_date/total_poppulation)*1000\n",
    "    print(\"The Crude Mortality Rate ={}%\".format(CMR))"
   ]
  },
  {
   "cell_type": "code",
   "execution_count": 11,
   "metadata": {},
   "outputs": [
    {
     "name": "stdout",
     "output_type": "stream",
     "text": [
      "The Crude Mortality Rate =27.266932422532797%\n"
     ]
    }
   ],
   "source": [
    "CMR(5732,210218)"
   ]
  }
 ],
 "metadata": {
  "kernelspec": {
   "display_name": "Python 3",
   "language": "python",
   "name": "python3"
  },
  "language_info": {
   "codemirror_mode": {
    "name": "ipython",
    "version": 3
   },
   "file_extension": ".py",
   "mimetype": "text/x-python",
   "name": "python",
   "nbconvert_exporter": "python",
   "pygments_lexer": "ipython3",
   "version": "3.7.4"
  }
 },
 "nbformat": 4,
 "nbformat_minor": 2
}
